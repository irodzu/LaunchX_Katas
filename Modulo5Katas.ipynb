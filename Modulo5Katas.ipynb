{
 "cells": [
  {
   "cell_type": "markdown",
   "metadata": {},
   "source": [
    "# Módulo 5\n",
    "### Ejercicio 1"
   ]
  },
  {
   "cell_type": "code",
   "execution_count": 8,
   "metadata": {},
   "outputs": [
    {
     "name": "stdout",
     "output_type": "stream",
     "text": [
      "628949330\n",
      "390577534\n"
     ]
    }
   ],
   "source": [
    "#Variables para distancias\n",
    "primer_planeta = 149597870 #km\n",
    "segundo_planeta = 778547200 #\n",
    "MILLAS = 0.621\n",
    "\n",
    "#Operacion con valor absoluto\n",
    "dist_planetas = primer_planeta - segundo_planeta\n",
    "print(abs(dist_planetas))\n",
    "\n",
    "#Operacion en millas y redondeo\n",
    "dist_planetas_millas = primer_planeta - segundo_planeta\n",
    "print (round(abs(dist_planetas_millas)*MILLAS))\n"
   ]
  },
  {
   "cell_type": "markdown",
   "metadata": {},
   "source": [
    "### Ejercicio 2"
   ]
  },
  {
   "cell_type": "code",
   "execution_count": 2,
   "metadata": {},
   "outputs": [
    {
     "name": "stdout",
     "output_type": "stream",
     "text": [
      "5\n",
      "3\n"
     ]
    }
   ],
   "source": [
    "#Entradas de usuario\n",
    "primer_planeta = input(\"Distancia primer planeta:\")\n",
    "segundo_planeta = input(\"Distancia segundo planeta:\")\n",
    "MILLAS = 0.621\n",
    "\n",
    "#Convertir cadena a enteros\n",
    "primer_planeta = int(primer_planeta)\n",
    "segundo_planeta = int(segundo_planeta)\n",
    "\n",
    "#Operaciones\n",
    "dist_planetas = primer_planeta - segundo_planeta\n",
    "print(abs(dist_planetas))\n",
    "\n",
    "dist_planetas_millas = primer_planeta - segundo_planeta\n",
    "print (round(abs(dist_planetas_millas)*MILLAS))"
   ]
  }
 ],
 "metadata": {
  "interpreter": {
   "hash": "5653f017436e26008b149d6ed835d44293f5cf4d3a60d87b492e6deb74ccf22b"
  },
  "kernelspec": {
   "display_name": "Python 3.9.10 64-bit (windows store)",
   "language": "python",
   "name": "python3"
  },
  "language_info": {
   "codemirror_mode": {
    "name": "ipython",
    "version": 3
   },
   "file_extension": ".py",
   "mimetype": "text/x-python",
   "name": "python",
   "nbconvert_exporter": "python",
   "pygments_lexer": "ipython3",
   "version": "3.9.10"
  },
  "orig_nbformat": 4
 },
 "nbformat": 4,
 "nbformat_minor": 2
}
