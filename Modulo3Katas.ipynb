{
 "cells": [
  {
   "cell_type": "markdown",
   "metadata": {},
   "source": [
    "# Kata 3"
   ]
  },
  {
   "cell_type": "markdown",
   "metadata": {},
   "source": [
    "### Ejercicio 1\n"
   ]
  },
  {
   "cell_type": "code",
   "execution_count": 18,
   "metadata": {},
   "outputs": [
    {
     "name": "stdout",
     "output_type": "stream",
     "text": [
      "Sin asteroides peligrosos en el horizonte cercano\n",
      "No os preocupéis\n"
     ]
    }
   ],
   "source": [
    "velaster = 10\n",
    "\n",
    "if velaster > 25:\n",
    "    print(\"El asteroide viaja a \" + str(velaster) + \"km/s\")\n",
    "    print(\"ADVERTENCIA: El asteroide se aproxima a la Tierra demasiado rápido\")\n",
    "else:\n",
    "    print(\"Sin asteroides peligrosos en el horizonte cercano\")\n",
    "    print(\"No os preocupéis\")"
   ]
  },
  {
   "cell_type": "markdown",
   "metadata": {},
   "source": [
    "### Ejercicio 2\n"
   ]
  },
  {
   "cell_type": "code",
   "execution_count": 20,
   "metadata": {},
   "outputs": [
    {
     "name": "stdout",
     "output_type": "stream",
     "text": [
      "Hoy los asteroides viajan muy despacio. Descansa, buenas noches.\n"
     ]
    }
   ],
   "source": [
    "velaster = 19\n",
    "\n",
    "if velaster == 20:\n",
    "    print(\"Estás de suerte. La velocidad el asteroide es la suficiente para observarlo en el cielo\")\n",
    "elif velaster > 20:\n",
    "    print(\"Préparate para una noche con estrella fugaz sorpresa\")\n",
    "else:\n",
    "    print(\"Hoy los asteroides viajan muy despacio. Descansa, buenas noches.\")"
   ]
  },
  {
   "cell_type": "markdown",
   "metadata": {},
   "source": [
    "### Ejercicio 3\n",
    "\n",
    "Sistema complejo de advertencias"
   ]
  },
  {
   "cell_type": "code",
   "execution_count": 49,
   "metadata": {},
   "outputs": [
    {
     "name": "stdout",
     "output_type": "stream",
     "text": [
      "Esta noche duerme tranquilo. No hay peligro ni nada qué observar\n"
     ]
    }
   ],
   "source": [
    "dimension = 10\n",
    "velaster = 10\n",
    "\n",
    "if dimension > 25 and velaster > 25:\n",
    "    print(\"ADVERTENCIA: Un asteroide se acerca peligrosamente a la Tierra.\")\n",
    "    print(\"Estamos a punto de extinguirnos como dinosaurios\")\n",
    "elif dimension < 25 and velaster >= 20 and velaster < 25:\n",
    "    print(\"Hoy el cielo tendrá una sorpresa.\")\n",
    "    print(\"¡Prepárate para la estrella fugaz!\")\n",
    "elif dimension < 25 and velaster > 25:\n",
    "    print(\"ADVERTENCIA: Existe un asteroide peligroso en el horizonte cercano\")\n",
    "else:\n",
    "    print(\"Esta noche duerme tranquilo. No hay peligro ni nada qué observar\")\n"
   ]
  }
 ],
 "metadata": {
  "interpreter": {
   "hash": "69eb92836b941e979072a76c7fcfffe5419cca933cedd02cfafbdfca1a93358c"
  },
  "kernelspec": {
   "display_name": "Python 3.9.10 64-bit",
   "language": "python",
   "name": "python3"
  },
  "language_info": {
   "codemirror_mode": {
    "name": "ipython",
    "version": 3
   },
   "file_extension": ".py",
   "mimetype": "text/x-python",
   "name": "python",
   "nbconvert_exporter": "python",
   "pygments_lexer": "ipython3",
   "version": "3.9.10"
  },
  "orig_nbformat": 4
 },
 "nbformat": 4,
 "nbformat_minor": 2
}
