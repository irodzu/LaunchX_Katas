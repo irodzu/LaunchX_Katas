{
 "cells": [
  {
   "cell_type": "markdown",
   "metadata": {},
   "source": [
    "# Módulo 9\n",
    "### Ejercicio 1"
   ]
  },
  {
   "cell_type": "code",
   "execution_count": 33,
   "metadata": {},
   "outputs": [
    {
     "name": "stdout",
     "output_type": "stream",
     "text": [
      "Reporte Combustible:\n",
      "    Total Promedio: 10.0%\n",
      "    Tanque 1: 10%\n",
      "    Tanque 2: 10%\n",
      "    Tanque 3: 10%\n",
      "    \n",
      "Reporte Combustible:\n",
      "    Total Promedio: 20.0%\n",
      "    Tanque 1: 10%\n",
      "    Tanque 2: 20%\n",
      "    Tanque 3: 30%\n",
      "    \n"
     ]
    }
   ],
   "source": [
    "#Definiendo la función\n",
    "def combustible(tanque1, tanque2, tanque3):\n",
    "    comb_total = (tanque1 + tanque2 + tanque3)\n",
    "    promedio = comb_total / 3\n",
    "    return f\"\"\"Reporte Combustible:\n",
    "    Total Promedio: {promedio}%\n",
    "    Tanque 1: {tanque1}%\n",
    "    Tanque 2: {tanque2}%\n",
    "    Tanque 3: {tanque3}%\n",
    "    \"\"\"\n",
    "print(combustible(10,10,10))\n",
    "\n",
    "#Creando funcion para calcular promedio\n",
    "\n",
    "def fpromedio(valores):\n",
    "    total = sum(valores)\n",
    "    total_valores = len(valores)\n",
    "    prom = total / total_valores\n",
    "    return prom\n",
    "\n",
    "promedio([10,10,10])\n",
    "    \n",
    "#Rescribiendo la funcion original\n",
    "def ncombustible(tanque1, tanque2, tanque3):\n",
    "    return f\"\"\"Reporte Combustible:\n",
    "    Total Promedio: {fpromedio([tanque1, tanque2, tanque3])}%\n",
    "    Tanque 1: {tanque1}%\n",
    "    Tanque 2: {tanque2}%\n",
    "    Tanque 3: {tanque3}%\n",
    "    \"\"\"\n",
    "print(ncombustible(10,20,30))"
   ]
  },
  {
   "cell_type": "markdown",
   "metadata": {},
   "source": [
    "### Ejercicio 2"
   ]
  },
  {
   "cell_type": "code",
   "execution_count": 34,
   "metadata": {},
   "outputs": [
    {
     "name": "stdout",
     "output_type": "stream",
     "text": [
      "\n",
      "    Destino: Marte\n",
      "    Tiempo total de vuelo: 391 minutos\n",
      "    Combustible restante: 40824 litros\n",
      "    \n",
      "\n",
      "    Destino: Luna\n",
      "    Tiempo total de vuelo: 593 minutos\n",
      "    Combustible restante: 99923\n",
      "    \n",
      "\n",
      "    Destino Jupiter\n",
      "    Tiempo total de vuelo: 2025 minutos\n",
      "    Combustible restante: 427673356\n",
      "    \n",
      "Tanque1--> 4184324 litros restantes\n",
      "Tanque2--> 423489032 litros restantes\n"
     ]
    }
   ],
   "source": [
    "#Creando función de lanzamiento\n",
    "def lanzamiento(t_lan, t_vlo, destino, tq_ext, tq_int):\n",
    "    return f\"\"\"\n",
    "    Destino: {destino}\n",
    "    Tiempo total de vuelo: {t_lan + t_vlo} minutos\n",
    "    Combustible restante: {tq_ext + tq_int} litros\n",
    "    \"\"\"\n",
    "\n",
    "print(lanzamiento(15, 376, \"Marte\", 27892, 12932))\n",
    "\n",
    "#Función flexible de argumentos\n",
    "def flanzamiento(fdestino, *minutos, **tanques):\n",
    "    return f\"\"\"\n",
    "    Destino: {fdestino}\n",
    "    Tiempo total de vuelo: {sum(minutos)} minutos\n",
    "    Combustible restante: {sum(tanques.values())}\n",
    "    \"\"\"\n",
    "\n",
    "print(flanzamiento(\"Luna\", 32, 25, 536, tanque1=12900, tanque2=87023))\n",
    "\n",
    "#Nueva función\n",
    "def nlanzamiento(ndestino, *minutos, **tanques):\n",
    "    reporte = f\"\"\"\n",
    "    Destino {ndestino}\n",
    "    Tiempo total de vuelo: {sum(minutos)} minutos\n",
    "    Combustible restante: {sum(tanques.values())}\n",
    "    \"\"\"\n",
    "    for tanque, litros in tanques.items():\n",
    "        reporte += f\"\\n{tanque}--> {litros} litros restantes\"\n",
    "    return reporte\n",
    "\n",
    "print(nlanzamiento(\"Jupiter\", 45, 90, 1890, Tanque1=4184324, Tanque2=423489032))"
   ]
  }
 ],
 "metadata": {
  "interpreter": {
   "hash": "5653f017436e26008b149d6ed835d44293f5cf4d3a60d87b492e6deb74ccf22b"
  },
  "kernelspec": {
   "display_name": "Python 3.9.10 64-bit (windows store)",
   "language": "python",
   "name": "python3"
  },
  "language_info": {
   "codemirror_mode": {
    "name": "ipython",
    "version": 3
   },
   "file_extension": ".py",
   "mimetype": "text/x-python",
   "name": "python",
   "nbconvert_exporter": "python",
   "pygments_lexer": "ipython3",
   "version": "3.9.10"
  },
  "orig_nbformat": 4
 },
 "nbformat": 4,
 "nbformat_minor": 2
}
