{
 "cells": [
  {
   "cell_type": "markdown",
   "metadata": {},
   "source": [
    "# Módulo 8\n",
    "### Ejercicio 1"
   ]
  },
  {
   "cell_type": "code",
   "execution_count": 52,
   "metadata": {},
   "outputs": [
    {
     "name": "stdout",
     "output_type": "stream",
     "text": [
      "Mars has 2 moons\n",
      "Mars polar diameter: 6752\n"
     ]
    }
   ],
   "source": [
    "#Creando diccionario Planet\n",
    "planet = {\n",
    "    'name': 'Mars',\n",
    "    'moons': 2\n",
    "}\n",
    "\n",
    "#Mostrando en planeta y numero de lunas\n",
    "print(f'{planet[\"name\"]} has {planet[\"moons\"]} moons')\n",
    "\n",
    "#Agregando un nuevo diccionario al diccionario\n",
    "planet['diameter (km)'] = {\n",
    "    'polar': 6752,\n",
    "    'equatorial': 6792\n",
    "}\n",
    "\n",
    "#Imprimiendo el nombre del planeta con su circunferencia polar\n",
    "\n",
    "print(f'{planet[\"name\"]} polar diameter: {planet[\"diameter (km)\"][\"polar\"]}')\n",
    "\n"
   ]
  },
  {
   "cell_type": "markdown",
   "metadata": {},
   "source": [
    "### Ejercicio 2"
   ]
  },
  {
   "cell_type": "code",
   "execution_count": 53,
   "metadata": {},
   "outputs": [
    {
     "name": "stdout",
     "output_type": "stream",
     "text": [
      "17.833333333333332\n"
     ]
    }
   ],
   "source": [
    "#Planetas y sus lunas\n",
    "planet_moons = {\n",
    "    'mercury': 0,\n",
    "    'venus': 0,\n",
    "    'earth': 1,\n",
    "    'mars': 2,\n",
    "    'jupiter': 79,\n",
    "    'saturn': 82,\n",
    "    'uranus': 27,\n",
    "    'neptune': 14,\n",
    "    'pluto': 5,\n",
    "    'haumea': 2,\n",
    "    'makemake': 1,\n",
    "    'eris': 1\n",
    "}\n",
    "\n",
    "#Guardando los valores del diccionario en moons\n",
    "moons = planet_moons.values()\n",
    "\n",
    "#Guardando el numero de planetas en el diccionario\n",
    "planets = len(planet_moons)\n",
    "\n",
    "#Contando el numero total de lunas\n",
    "total_moons = 0\n",
    "\n",
    "for moon in moons:\n",
    "    total_moons = total_moons + moon\n",
    "\n",
    "#Calculando el promedio de lunas por planeta\n",
    "average_moons = total_moons / planets\n",
    "print(average_moons)"
   ]
  }
 ],
 "metadata": {
  "interpreter": {
   "hash": "5653f017436e26008b149d6ed835d44293f5cf4d3a60d87b492e6deb74ccf22b"
  },
  "kernelspec": {
   "display_name": "Python 3.9.10 64-bit (windows store)",
   "language": "python",
   "name": "python3"
  },
  "language_info": {
   "codemirror_mode": {
    "name": "ipython",
    "version": 3
   },
   "file_extension": ".py",
   "mimetype": "text/x-python",
   "name": "python",
   "nbconvert_exporter": "python",
   "pygments_lexer": "ipython3",
   "version": "3.9.10"
  },
  "orig_nbformat": 4
 },
 "nbformat": 4,
 "nbformat_minor": 2
}
