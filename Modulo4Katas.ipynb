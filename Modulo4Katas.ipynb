{
 "cells": [
  {
   "cell_type": "markdown",
   "metadata": {},
   "source": [
    "# Kata 4"
   ]
  },
  {
   "cell_type": "markdown",
   "metadata": {},
   "source": [
    "### Ejercicio 1"
   ]
  },
  {
   "cell_type": "code",
   "execution_count": 1,
   "metadata": {},
   "outputs": [
    {
     "name": "stdout",
     "output_type": "stream",
     "text": [
      "On average, the Moon moves 4cm away from the Earth every year\n",
      "The highest daylight temperature of the Moon is 127 C.\n",
      "On average, the Moon moves 4cm away from the Earth every year\n",
      "The highest daylight temperature of the Moon is 127 Celsius.\n"
     ]
    }
   ],
   "source": [
    "text = \"\"\"Interesting facts about the Moon. The Moon is Earth's only satellite. There are several interesting facts about the Moon and how it affects life here on Earth. On average, the Moon moves 4cm away from the Earth every year. This yearly drift is not significant enough to cause immediate effects on Earth. The highest daylight temperature of the Moon is 127 C.\"\"\"\n",
    "\n",
    "#Aqui dividimos texto\n",
    "oraciones = text.split('. ')\n",
    "oraciones\n",
    "\n",
    "#Definimos las palabras clave\n",
    "palabras = [\"average\", \"temperature\", \"distance\"]\n",
    "\n",
    "#Recorremos las oraciones\n",
    "for sentence in oraciones:\n",
    "    for palabra in palabras:\n",
    "        if palabra in sentence:\n",
    "            print(sentence)\n",
    "            break\n",
    "\n",
    "#Cambiamos C a Celsius\n",
    "for sentence in oraciones:\n",
    "    for palabra in palabras:\n",
    "        if palabra in sentence:\n",
    "            print(sentence.replace(' C', ' Celsius'))\n",
    "            break"
   ]
  },
  {
   "cell_type": "markdown",
   "metadata": {},
   "source": [
    "### Ejercicio 2"
   ]
  },
  {
   "cell_type": "code",
   "execution_count": 2,
   "metadata": {},
   "outputs": [
    {
     "name": "stdout",
     "output_type": "stream",
     "text": [
      "--------------------------------------------------------------------------------\n",
      "Planet: Earth\n",
      "Gravity on Moon: 1.6199999999999999 m/s2\n",
      "\n",
      "--------------------------------------------------------------------------------\n",
      "Planet: Earth\n",
      "Gravity on Moon: 1.6199999999999999 m/s2\n",
      "\n",
      "\n",
      "Facts about gravity on: Ganimedes\n",
      "-------------------------------------------------------------------------------\n",
      "Planet: Mars\n",
      "Gravity on Ganimedes: 0.00143 m/s2\n",
      "\n",
      "\n",
      "Facts about gravity on: Ganimedes\n",
      "-------------------------------------------------------------------------------\n",
      "Planet: Mars\n",
      "Gravity on Ganimedes: 1.4300000000000002 m/s2\n",
      "\n"
     ]
    }
   ],
   "source": [
    "#Datos de trabajo\n",
    "name = \"Moon\"\n",
    "gravity = 0.00162\n",
    "planet = \"Earth\"\n",
    "\n",
    "#Título\n",
    "titulo = f'facts about gravity on the {name}'\n",
    "\n",
    "#Plantilla\n",
    "facts = f\"\"\"{'-'*80}\n",
    "Planet: {planet}\n",
    "Gravity on {name}: {gravity * 1000} m/s2\n",
    "\"\"\"\n",
    "\n",
    "#Unión de cadenas\n",
    "plantilla = f\"\"\"{titulo.title()}\n",
    "{facts}\n",
    "\"\"\"\n",
    "print(facts)\n",
    "\n",
    "#Datos Nuevos\n",
    "planet = \"Mars\"\n",
    "gravity = 0.00143\n",
    "name = \"Ganimedes\"\n",
    "\n",
    "print(facts)\n",
    "\n",
    "#Plantilla Nueva\n",
    "nva_plantilla = \"\"\"\n",
    "Facts about gravity on: {name}\n",
    "-------------------------------------------------------------------------------\n",
    "Planet: {planet}\n",
    "Gravity on {name}: {gravity} m/s2\n",
    "\"\"\"\n",
    "print(nva_plantilla.format(name=name, planet=planet, gravity=gravity))\n",
    "\n",
    "#Correcion gravedad\n",
    "print(nva_plantilla.format(name=name, planet=planet, gravity=gravity*1000))"
   ]
  }
 ],
 "metadata": {
  "interpreter": {
   "hash": "5653f017436e26008b149d6ed835d44293f5cf4d3a60d87b492e6deb74ccf22b"
  },
  "kernelspec": {
   "display_name": "Python 3.9.10 64-bit (windows store)",
   "language": "python",
   "name": "python3"
  },
  "language_info": {
   "codemirror_mode": {
    "name": "ipython",
    "version": 3
   },
   "file_extension": ".py",
   "mimetype": "text/x-python",
   "name": "python",
   "nbconvert_exporter": "python",
   "pygments_lexer": "ipython3",
   "version": "3.9.10"
  },
  "orig_nbformat": 4
 },
 "nbformat": 4,
 "nbformat_minor": 2
}
