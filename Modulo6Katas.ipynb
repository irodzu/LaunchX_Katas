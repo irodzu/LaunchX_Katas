{
 "cells": [
  {
   "cell_type": "markdown",
   "metadata": {},
   "source": [
    "# Kata 6\n",
    "### Ejercicio 1"
   ]
  },
  {
   "cell_type": "code",
   "execution_count": 18,
   "metadata": {},
   "outputs": [
    {
     "name": "stdout",
     "output_type": "stream",
     "text": [
      "8\n",
      "['Mercurio', 'Venus', 'Tierra', 'Marte', 'Jupiter', 'Saturno', 'Urano', 'Neptuno', 'Pluton']\n",
      "Pluton\n"
     ]
    }
   ],
   "source": [
    "#Lista de planetas y muestra de su número\n",
    "planets = ['Mercurio', 'Venus', 'Tierra', 'Marte', 'Jupiter', 'Saturno', 'Urano', 'Neptuno']\n",
    "num_planets = len(planets)\n",
    "print(num_planets)\n",
    "\n",
    "#Agregando Pluton a la lista para mostrarlo\n",
    "planets.append('Pluton')\n",
    "print(planets)\n",
    "print(planets[-1])"
   ]
  },
  {
   "cell_type": "markdown",
   "metadata": {},
   "source": [
    "### Ejercicio 2"
   ]
  },
  {
   "cell_type": "code",
   "execution_count": 20,
   "metadata": {},
   "outputs": [
    {
     "name": "stdout",
     "output_type": "stream",
     "text": [
      "4\n",
      "['Mercurio', 'Venus', 'Tierra', 'Marte']\n",
      "['Saturno', 'Urano', 'Neptuno', 'Pluton']\n"
     ]
    }
   ],
   "source": [
    "#Creando lista de planetas\n",
    "planets = ['Mercurio', 'Venus', 'Tierra', 'Marte', 'Jupiter', 'Saturno', 'Urano', 'Neptuno', 'Pluton']\n",
    "\n",
    "#Solicitud a usuario\n",
    "planet_user = input(\"Introduce el nombre de un planeta iniciando con letra mayúscula: \")\n",
    "\n",
    "#Buscando planeta en la lista\n",
    "index_usuario = planets.index(planet_user)\n",
    "print(index_usuario)\n",
    "\n",
    "#Imprimir planetas más cercanos al sol\n",
    "planets_closer = planets[0:index_usuario]\n",
    "print(planets_closer)\n",
    "\n",
    "#Imprimir planetas más lejanos al sol\n",
    "planets_further = planets[index_usuario+1:]\n",
    "print(planets_further)\n"
   ]
  }
 ],
 "metadata": {
  "interpreter": {
   "hash": "5653f017436e26008b149d6ed835d44293f5cf4d3a60d87b492e6deb74ccf22b"
  },
  "kernelspec": {
   "display_name": "Python 3.9.10 64-bit (windows store)",
   "language": "python",
   "name": "python3"
  },
  "language_info": {
   "codemirror_mode": {
    "name": "ipython",
    "version": 3
   },
   "file_extension": ".py",
   "mimetype": "text/x-python",
   "name": "python",
   "nbconvert_exporter": "python",
   "pygments_lexer": "ipython3",
   "version": "3.9.10"
  },
  "orig_nbformat": 4
 },
 "nbformat": 4,
 "nbformat_minor": 2
}
